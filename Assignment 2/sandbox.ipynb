{
 "cells": [
  {
   "cell_type": "code",
   "execution_count": 1,
   "id": "3b7026e0",
   "metadata": {},
   "outputs": [],
   "source": [
    "import numpy as np\n",
    "import h5py\n",
    "\n",
    "from parse_data import load_all_data\n",
    "from preprocess_data import z_score_normalize, downsample"
   ]
  },
  {
   "cell_type": "code",
   "execution_count": null,
   "id": "0f78d533",
   "metadata": {},
   "outputs": [],
   "source": [
    "X_train, y_train = load_all_data(\"Intra/train\", logs=0)\n",
    "print(f\"X_train shape before preprocessing {np.array(X_train).shape}\")  # 3D array: (n_samples, n_channels, n_times)\n",
    "\n",
    "X_train = [downsample(z_score_normalize(x), step=8) for x in X_train]\n",
    "print(f\"X_train shape after preprocessing {np.array(X_train).shape}\")  # 3D array: (n_samples, n_channels, n_times)"
   ]
  },
  {
   "cell_type": "code",
   "execution_count": 21,
   "id": "45a3480a",
   "metadata": {},
   "outputs": [
    {
     "data": {
      "text/plain": [
       "array(['rest', 'rest', 'rest', 'rest', 'rest', 'rest', 'rest', 'rest',\n",
       "       'motor', 'motor', 'motor', 'motor', 'motor', 'motor', 'motor',\n",
       "       'motor', 'math', 'math', 'math', 'math', 'math', 'math', 'math',\n",
       "       'math', 'memory', 'memory', 'memory', 'memory', 'memory', 'memory',\n",
       "       'memory', 'memory'], dtype='<U6')"
      ]
     },
     "execution_count": 21,
     "metadata": {},
     "output_type": "execute_result"
    }
   ],
   "source": [
    "y_train"
   ]
  },
  {
   "cell_type": "markdown",
   "id": "6b90c694",
   "metadata": {},
   "source": [
    "Mehrkanoon's Snippet"
   ]
  },
  {
   "cell_type": "code",
   "execution_count": 5,
   "id": "9cb27b52",
   "metadata": {},
   "outputs": [
    {
     "name": "stdout",
     "output_type": "stream",
     "text": [
      "dataset_name: rest_105923\n",
      "<class 'numpy.ndarray'>\n",
      "[1.97084298e-12 2.05354267e-12 2.15993716e-12 ... 3.76791523e-12\n",
      " 3.73353432e-12 3.84085819e-12]\n"
     ]
    }
   ],
   "source": [
    "import h5py\n",
    "\n",
    "def get_dataset_name(filename_with_dir):\n",
    "    filename_without_dir = filename_with_dir.split('/')[-1]\n",
    "    temp = filename_without_dir.split('_')[:-1]\n",
    "    dataset_name = '_'.join(temp)\n",
    "    print('dataset_name:',dataset_name)\n",
    "    return dataset_name\n",
    "\n",
    "filename_path = \"Data/Intra/train/rest_105923_1.h5\"\n",
    "with h5py.File(filename_path,'r') as f:\n",
    "    dataset_name = get_dataset_name(filename_path)\n",
    "    matrix = f.get(dataset_name)[()]\n",
    "    print(type(matrix))\n",
    "    print(matrix[0])"
   ]
  },
  {
   "cell_type": "code",
   "execution_count": null,
   "id": "0f51d06c",
   "metadata": {},
   "outputs": [],
   "source": []
  },
  {
   "cell_type": "markdown",
   "id": "e40c69eb",
   "metadata": {},
   "source": [
    "My initial snippet"
   ]
  },
  {
   "cell_type": "code",
   "execution_count": 16,
   "id": "633ece36",
   "metadata": {},
   "outputs": [
    {
     "name": "stdout",
     "output_type": "stream",
     "text": [
      "(248, 35624)\n",
      "(248, 35624)\n",
      "(248, 35624)\n",
      "(248, 35624)\n",
      "(248, 35624)\n",
      "(248, 35624)\n",
      "(248, 35624)\n",
      "(248, 35624)\n",
      "(248, 35624)\n",
      "(248, 35624)\n",
      "(248, 35624)\n",
      "(248, 35624)\n",
      "(248, 35624)\n",
      "(248, 35624)\n",
      "(248, 35624)\n",
      "(248, 35624)\n",
      "(248, 35624)\n",
      "(248, 35624)\n",
      "(248, 35624)\n",
      "(248, 35624)\n",
      "(248, 35624)\n",
      "(248, 35624)\n",
      "(248, 35624)\n",
      "(248, 35624)\n",
      "(248, 35624)\n",
      "(248, 35624)\n",
      "(248, 35624)\n",
      "(248, 35624)\n",
      "(248, 35624)\n",
      "(248, 35624)\n",
      "(248, 35624)\n",
      "(248, 35624)\n"
     ]
    }
   ],
   "source": [
    "import os\n",
    "from pathlib import Path\n",
    "intra_train_dir = Path(\"Data/Intra/train/\")\n",
    "\n",
    "for file in os.listdir(intra_train_dir):\n",
    "    with h5py.File(intra_train_dir/file, 'r') as f:\n",
    "        # List all groups\n",
    "        # print(\"Keys:\", list(f.keys()))\n",
    "\n",
    "        # Access a dataset (replace 'dataset_name' with actual name)\n",
    "        data = f[list(f.keys())[0]][:]\n",
    "        print(data.shape)"
   ]
  }
 ],
 "metadata": {
  "kernelspec": {
   "display_name": "DL",
   "language": "python",
   "name": "python3"
  },
  "language_info": {
   "codemirror_mode": {
    "name": "ipython",
    "version": 3
   },
   "file_extension": ".py",
   "mimetype": "text/x-python",
   "name": "python",
   "nbconvert_exporter": "python",
   "pygments_lexer": "ipython3",
   "version": "3.10.13"
  }
 },
 "nbformat": 4,
 "nbformat_minor": 5
}
