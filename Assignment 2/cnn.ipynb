{
 "cells": [
  {
   "cell_type": "markdown",
   "id": "a7bb16bf",
   "metadata": {},
   "source": [
    "## Imports"
   ]
  },
  {
   "cell_type": "code",
   "execution_count": 33,
   "id": "6f1a835a",
   "metadata": {},
   "outputs": [],
   "source": [
    "import os\n",
    "import h5py\n",
    "import numpy as np\n",
    "from scipy.signal import butter, filtfilt\n",
    "\n",
    "import matplotlib.pyplot as plt\n",
    "\n",
    "from keras.models import Sequential\n",
    "from keras.layers import Conv1D, LSTM, Dropout, BatchNormalization, Dense, GlobalAveragePooling1D\n",
    "from keras.optimizers import Nadam\n",
    "from keras.callbacks import EarlyStopping\n",
    "from keras.utils import to_categorical\n",
    "\n",
    "from sklearn.metrics import confusion_matrix, ConfusionMatrixDisplay\n",
    "from sklearn.model_selection import train_test_split"
   ]
  },
  {
   "cell_type": "markdown",
   "id": "4137313f",
   "metadata": {},
   "source": [
    "## Constants"
   ]
  },
  {
   "cell_type": "code",
   "execution_count": 40,
   "id": "d5f296ed",
   "metadata": {},
   "outputs": [],
   "source": [
    "DOWNSAMPLING_STEP = 4\n",
    "NUM_CLASSES = 4\n",
    "N_BATCHES = 10\n",
    "\n",
    "ENCODE_MAP = {\n",
    "        'rest': 0,\n",
    "        'motor': 1,\n",
    "        'memory': 2,\n",
    "        'math': 3,\n",
    "    }"
   ]
  },
  {
   "cell_type": "markdown",
   "id": "4b4a48b5",
   "metadata": {},
   "source": [
    "## Load data"
   ]
  },
  {
   "cell_type": "code",
   "execution_count": 41,
   "id": "82f16469",
   "metadata": {},
   "outputs": [],
   "source": [
    "def get_dataset_name(filename_with_dir):\n",
    "    filename_without_dir = filename_with_dir.split('/')[-1]\n",
    "    temp = filename_without_dir.split('_')[:-1]\n",
    "    dataset_name = '_'.join(temp)\n",
    "    return dataset_name\n",
    "\n",
    "def extract_label(filename, logs=False, encode_mapping=ENCODE_MAP):\n",
    "    if 'rest' in filename:\n",
    "        print(f'Mapping label {filename} to {encode_mapping[\"rest\"]}') if logs else None\n",
    "        return encode_mapping['rest']\n",
    "    elif 'motor' in filename:\n",
    "        print(f'Mapping label {filename} to {encode_mapping[\"motor\"]}') if logs else None\n",
    "        return encode_mapping['motor']\n",
    "    elif 'memory' in filename:\n",
    "        print(f'Mapping label {filename} to {encode_mapping[\"memory\"]}') if logs else None\n",
    "        return encode_mapping['memory']\n",
    "    else:\n",
    "        print(f'Mapping label {filename} to {encode_mapping[\"math\"]}') if logs else None\n",
    "        return encode_mapping['math']\n",
    "\n",
    "def load_all_data(folder_path, logs=False):\n",
    "    X = []\n",
    "    y = []\n",
    "\n",
    "    for filename in os.listdir(folder_path):\n",
    "        if filename.endswith('.h5'):\n",
    "            print(f\"Loading {filename}...\") if logs else None\n",
    "            file_path = os.path.join(folder_path, filename)\n",
    "            with h5py.File(file_path, 'r') as f:\n",
    "                dataset_name = get_dataset_name(file_path)\n",
    "                data = f.get(dataset_name)[()]\n",
    "                label = extract_label(filename)\n",
    "                print(f\"Data shape: {data.shape}, label: {label}\") if logs else None\n",
    "                X.append(data)       # shape (248, 35624)\n",
    "                y.append(label)      # 'motor', 'rest', etc.\n",
    "    X = np.array(X)  # shape (n_samples, 248, 35624)\n",
    "    y = np.array(y)  # shape (n_samples,)\n",
    "    return X, y"
   ]
  },
  {
   "cell_type": "markdown",
   "id": "18e9b78f",
   "metadata": {},
   "source": [
    "## Preprocessing"
   ]
  },
  {
   "cell_type": "code",
   "execution_count": 42,
   "id": "87a48c98",
   "metadata": {},
   "outputs": [],
   "source": [
    "def z_score_normalize(data):\n",
    "    # data: shape (248, T)\n",
    "    mean = np.mean(data, axis=1, keepdims=True)\n",
    "    std = np.std(data, axis=1, keepdims=True) + 1e-8\n",
    "    return (data - mean) / std\n",
    "\n",
    "\n",
    "def butter_bandpass(lowcut, highcut, fs, order=4):\n",
    "    nyq = 0.5 * fs\n",
    "    low = lowcut / nyq\n",
    "    high = highcut / nyq\n",
    "    b, a = butter(order, [low, high], btype='band')\n",
    "    return b, a\n",
    "\n",
    "\n",
    "def apply_bandpass_filter(data, lowcut=1, highcut=40, fs=500, order=4):\n",
    "    b, a = butter_bandpass(lowcut, highcut, fs, order)\n",
    "    return filtfilt(b, a, data, axis=0)\n",
    "\n",
    "\n",
    "def downsample(data, step=DOWNSAMPLING_STEP):\n",
    "    # data: shape (248, T)\n",
    "    return np.array(data[:, ::step])  # keep every 8th column\n",
    "# band pass or low pass filter before downsampling\n",
    "\n",
    "\n",
    "def split_to_batches(X, y, n_batches=N_BATCHES):\n",
    "    \"\"\"\n",
    "    Splits each sample in X into `n_batches` chunks along the time axis.\n",
    "    Each resulting chunk keeps the same label as the original sample.\n",
    "\n",
    "    Args:\n",
    "        X (np.ndarray): shape (n_samples, n_channels, time_steps)\n",
    "        y (np.ndarray): shape (n_samples,)\n",
    "        n_batches (int): how many segments to split each sample into\n",
    "\n",
    "    Returns:\n",
    "        X_out (np.ndarray): shape (n_samples * n_batches, n_channels, time_steps // n_batches)\n",
    "        y_out (np.ndarray): shape (n_samples * n_batches,)\n",
    "    \"\"\"\n",
    "    X_out = []\n",
    "    y_out = []\n",
    "\n",
    "    for i in range(len(X)):\n",
    "        sample = X[i]  # (n_channels, T)\n",
    "        label = y[i]\n",
    "        T = sample.shape[1]\n",
    "        batch_len = T // n_batches\n",
    "        usable_len = batch_len * n_batches  # discard leftover\n",
    "\n",
    "        sample = sample[:, :usable_len]  # truncate extra\n",
    "        for j in range(n_batches):\n",
    "            chunk = sample[:, j * batch_len : (j + 1) * batch_len]\n",
    "            X_out.append(chunk)\n",
    "            y_out.append(label)\n",
    "\n",
    "    return np.array(X_out), np.array(y_out)\n"
   ]
  },
  {
   "cell_type": "code",
   "execution_count": 43,
   "id": "e9544501",
   "metadata": {},
   "outputs": [
    {
     "name": "stdout",
     "output_type": "stream",
     "text": [
      "X shape: (320, 248, 890), y shape: (320,)\n"
     ]
    }
   ],
   "source": [
    "# Specify the folder name and load the data. (Don't push data folders to GitHub!!!)\n",
    "X_raw, y_raw = load_all_data(\"Intra/train\")\n",
    "X_preprocessed = [downsample(z_score_normalize(apply_bandpass_filter(x))) for x in X_raw]\n",
    "X_preprocessed = np.array(X_preprocessed)\n",
    "\n",
    "# Split to batches\n",
    "X_batch, y_batch = split_to_batches(X_preprocessed, y_raw, n_batches=N_BATCHES)\n",
    "print(f\"X shape: {X_batch.shape}, y shape: {y_batch.shape}\")  # (n_samples * N_BATCHES, 248, T/N_BATCHES) # (n_samples * N_BATCHES,)\n",
    "\n",
    "# Transpose to match Conv1D input: (samples, timesteps, channels)\n",
    "X_batch = np.transpose(X_batch, (0, 2, 1))  # shape: (n_samples, time_steps, num_channels)\n",
    "\n",
    "# One-hot encode labels\n",
    "if y_batch.ndim == 1:\n",
    "    y_batch = to_categorical(y_batch, num_classes=NUM_CLASSES)"
   ]
  },
  {
   "cell_type": "code",
   "execution_count": 44,
   "id": "7634c8d8",
   "metadata": {},
   "outputs": [],
   "source": [
    "X_train, X_val, y_train, y_val = train_test_split(\n",
    "    X_batch, y_batch, test_size=0.2, stratify=np.argmax(y_batch, axis=1), random_state=42\n",
    ")"
   ]
  },
  {
   "cell_type": "markdown",
   "id": "e491ab1b",
   "metadata": {},
   "source": [
    "## CNN Model only"
   ]
  },
  {
   "cell_type": "code",
   "execution_count": 35,
   "id": "78b8c0fa",
   "metadata": {},
   "outputs": [
    {
     "name": "stderr",
     "output_type": "stream",
     "text": [
      "/Library/Frameworks/Python.framework/Versions/3.12/lib/python3.12/site-packages/keras/src/layers/convolutional/base_conv.py:107: UserWarning: Do not pass an `input_shape`/`input_dim` argument to a layer. When using Sequential models, prefer using an `Input(shape)` object as the first layer in the model instead.\n",
      "  super().__init__(activity_regularizer=activity_regularizer, **kwargs)\n"
     ]
    }
   ],
   "source": [
    "time_steps = X_train.shape[1]\n",
    "num_channels = X_train.shape[2]\n",
    "\n",
    "early_stop = EarlyStopping(\n",
    "    monitor='val_loss',\n",
    "    patience=5,\n",
    "    restore_best_weights=True\n",
    ")\n",
    "\n",
    "cnn_model = Sequential([\n",
    "    Conv1D(64, 3, activation=\"relu\", padding=\"same\", input_shape=(time_steps, num_channels)),\n",
    "    BatchNormalization(),\n",
    "    Dropout(0.2),\n",
    "\n",
    "    Conv1D(128, 5, activation=\"relu\", padding=\"same\"),\n",
    "    BatchNormalization(),\n",
    "    Dropout(0.2),\n",
    "\n",
    "    GlobalAveragePooling1D(),\n",
    "\n",
    "    Dense(64, activation='relu'),\n",
    "    Dropout(0.3),\n",
    "\n",
    "    Dense(NUM_CLASSES, activation='softmax')\n",
    "])\n",
    "\n",
    "cnn_model.compile(optimizer=Nadam(learning_rate=0.001), loss='categorical_crossentropy', metrics=['accuracy'])\n"
   ]
  },
  {
   "cell_type": "code",
   "execution_count": 36,
   "id": "75375aa1",
   "metadata": {},
   "outputs": [
    {
     "name": "stdout",
     "output_type": "stream",
     "text": [
      "Epoch 1/30\n",
      "\u001b[1m40/40\u001b[0m \u001b[32m━━━━━━━━━━━━━━━━━━━━\u001b[0m\u001b[37m\u001b[0m \u001b[1m2s\u001b[0m 25ms/step - accuracy: 0.3177 - loss: 1.3516 - val_accuracy: 0.2500 - val_loss: 1.3891\n",
      "Epoch 2/30\n",
      "\u001b[1m40/40\u001b[0m \u001b[32m━━━━━━━━━━━━━━━━━━━━\u001b[0m\u001b[37m\u001b[0m \u001b[1m1s\u001b[0m 15ms/step - accuracy: 0.5231 - loss: 1.0680 - val_accuracy: 0.2500 - val_loss: 1.4047\n",
      "Epoch 3/30\n",
      "\u001b[1m40/40\u001b[0m \u001b[32m━━━━━━━━━━━━━━━━━━━━\u001b[0m\u001b[37m\u001b[0m \u001b[1m1s\u001b[0m 16ms/step - accuracy: 0.5931 - loss: 0.8689 - val_accuracy: 0.2500 - val_loss: 1.4034\n",
      "Epoch 4/30\n",
      "\u001b[1m40/40\u001b[0m \u001b[32m━━━━━━━━━━━━━━━━━━━━\u001b[0m\u001b[37m\u001b[0m \u001b[1m1s\u001b[0m 16ms/step - accuracy: 0.6340 - loss: 0.7912 - val_accuracy: 0.2500 - val_loss: 1.4104\n",
      "Epoch 5/30\n",
      "\u001b[1m40/40\u001b[0m \u001b[32m━━━━━━━━━━━━━━━━━━━━\u001b[0m\u001b[37m\u001b[0m \u001b[1m1s\u001b[0m 16ms/step - accuracy: 0.6619 - loss: 0.7597 - val_accuracy: 0.2516 - val_loss: 1.4025\n",
      "Epoch 6/30\n",
      "\u001b[1m40/40\u001b[0m \u001b[32m━━━━━━━━━━━━━━━━━━━━\u001b[0m\u001b[37m\u001b[0m \u001b[1m1s\u001b[0m 20ms/step - accuracy: 0.6995 - loss: 0.7004 - val_accuracy: 0.2500 - val_loss: 1.4100\n"
     ]
    }
   ],
   "source": [
    "history = cnn_model.fit(\n",
    "    X_train, y_train,\n",
    "    validation_data=(X_val, y_val),\n",
    "    epochs=30,\n",
    "    batch_size=64,\n",
    "    callbacks=[early_stop],\n",
    "    verbose=1\n",
    ")"
   ]
  },
  {
   "cell_type": "markdown",
   "id": "1aa4b76a",
   "metadata": {},
   "source": [
    "## Testing and evaluating part"
   ]
  },
  {
   "cell_type": "code",
   "execution_count": 37,
   "id": "b8f209ec",
   "metadata": {},
   "outputs": [
    {
     "name": "stdout",
     "output_type": "stream",
     "text": [
      "X_test shape before preprocessing: (8, 248, 35624)\n",
      "X_test shape after preprocessing: (8, 248, 8906)\n",
      "X_test_batch shape: (800, 248, 89), y_test_batch shape: (800,)\n"
     ]
    }
   ],
   "source": [
    "# Load and preprocess test data\n",
    "X_test_raw, y_test_raw = load_all_data(\"Intra/test\", logs=0)\n",
    "print(f\"X_test shape before preprocessing: {np.array(X_test_raw).shape}\")\n",
    "\n",
    "# Preprocessing\n",
    "X_test_preprocessed = [downsample(z_score_normalize(apply_bandpass_filter(x))) for x in X_test_raw]\n",
    "X_test_preprocessed = np.array(X_test_preprocessed)\n",
    "print(f\"X_test shape after preprocessing: {X_test_preprocessed.shape}\")\n",
    "\n",
    "# Split into batches\n",
    "X_test_batch, y_test_batch = split_to_batches(X_test_preprocessed, y_test_raw, n_batches=N_BATCHES)\n",
    "print(f\"X_test_batch shape: {X_test_batch.shape}, y_test_batch shape: {y_test_batch.shape}\")\n",
    "\n",
    "# Transpose to (samples, time_steps, channels)\n",
    "X_test_batch = np.transpose(X_test_batch, (0, 2, 1))  # shape: (n_samples, time_steps, num_channels)\n",
    "\n",
    "# One-hot encode labels\n",
    "y_test_batch = to_categorical(y_test_batch, num_classes=NUM_CLASSES)"
   ]
  },
  {
   "cell_type": "code",
   "execution_count": 45,
   "id": "c210a074",
   "metadata": {},
   "outputs": [
    {
     "name": "stdout",
     "output_type": "stream",
     "text": [
      "\u001b[1m25/25\u001b[0m \u001b[32m━━━━━━━━━━━━━━━━━━━━\u001b[0m\u001b[37m\u001b[0m \u001b[1m0s\u001b[0m 3ms/step - accuracy: 0.2002 - loss: 1.3995   \n",
      "Test accuracy: 0.25\n"
     ]
    }
   ],
   "source": [
    "# Evaluate\n",
    "test_loss, test_acc = cnn_model.evaluate(X_test_batch, y_test_batch, verbose=1)\n",
    "print(\"Test accuracy:\", test_acc)"
   ]
  },
  {
   "cell_type": "code",
   "execution_count": 10,
   "id": "a84422ce",
   "metadata": {},
   "outputs": [
    {
     "data": {
      "image/png": "[encoded data removed]",
      "text/plain": [
       "<Figure size 1200x400 with 2 Axes>"
      ]
     },
     "metadata": {},
     "output_type": "display_data"
    }
   ],
   "source": [
    "# Plot accuracy\n",
    "plt.figure(figsize=(12, 4))\n",
    "\n",
    "plt.subplot(1, 2, 1)\n",
    "plt.plot(history.history['accuracy'], label='Train Acc')\n",
    "plt.plot(history.history['val_accuracy'], label='Val Acc')\n",
    "plt.title('Model Accuracy')\n",
    "plt.xlabel('Epoch')\n",
    "plt.ylabel('Accuracy')\n",
    "plt.legend()\n",
    "\n",
    "# Plot loss\n",
    "plt.subplot(1, 2, 2)\n",
    "plt.plot(history.history['loss'], label='Train Loss')\n",
    "plt.plot(history.history['val_loss'], label='Val Loss')\n",
    "plt.title('Model Loss')\n",
    "plt.xlabel('Epoch')\n",
    "plt.ylabel('Loss')\n",
    "plt.legend()\n",
    "\n",
    "plt.tight_layout()\n",
    "plt.show()\n"
   ]
  },
  {
   "cell_type": "code",
   "execution_count": null,
   "id": "80cf851b",
   "metadata": {},
   "outputs": [],
   "source": [
    "# Predict class probabilities\n",
    "y_pred_probs = cnn_model.predict(X_test)\n",
    "# Convert one-hot back to class labels\n",
    "y_pred = np.argmax(y_pred_probs, axis=1)\n",
    "y_true = np.argmax(y_test, axis=1)\n",
    "\n",
    "# Confusion matrix\n",
    "cm = confusion_matrix(y_true, y_pred)\n",
    "disp = ConfusionMatrixDisplay(confusion_matrix=cm, display_labels=[\"rest\", \"motor\", \"memory\", \"math\"])\n",
    "disp.plot(cmap=plt.cm.Blues)\n",
    "plt.title(\"Confusion Matrix\")\n",
    "plt.show()\n"
   ]
  },
  {
   "cell_type": "code",
   "execution_count": null,
   "id": "6c680901",
   "metadata": {},
   "outputs": [],
   "source": []
  }
 ],
 "metadata": {
  "kernelspec": {
   "display_name": "Python 3",
   "language": "python",
   "name": "python3"
  },
  "language_info": {
   "codemirror_mode": {
    "name": "ipython",
    "version": 3
   },
   "file_extension": ".py",
   "mimetype": "text/x-python",
   "name": "python",
   "nbconvert_exporter": "python",
   "pygments_lexer": "ipython3",
   "version": "3.12.4"
  }
 },
 "nbformat": 4,
 "nbformat_minor": 5
}
