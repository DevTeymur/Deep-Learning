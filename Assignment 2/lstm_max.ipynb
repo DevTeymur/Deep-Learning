{
 "cells": [
  {
   "cell_type": "markdown",
   "id": "a7bb16bf",
   "metadata": {},
   "source": [
    "## Imports"
   ]
  },
  {
   "cell_type": "code",
   "execution_count": 1,
   "id": "6f1a835a",
   "metadata": {},
   "outputs": [],
   "source": [
    "import os\n",
    "import h5py\n",
    "import numpy as np\n",
    "from pathlib import Path\n",
    "\n",
    "import matplotlib.pyplot as plt\n",
    "\n",
    "from keras.models import Sequential # type: ignore\n",
    "from keras.layers import Conv1D, LSTM, Dropout, BatchNormalization, Dense, GlobalAveragePooling1D, TimeDistributed # type: ignore\n",
    "from keras.optimizers import Nadam # type: ignore\n",
    "from keras.callbacks import EarlyStopping # type: ignore\n",
    "from keras.utils import to_categorical # type: ignore\n",
    "from keras.regularizers import l2 # type: ignore\n",
    "from sklearn.utils import shuffle # type: ignore\n",
    "\n",
    "from sklearn.metrics import confusion_matrix, ConfusionMatrixDisplay"
   ]
  },
  {
   "cell_type": "markdown",
   "id": "4137313f",
   "metadata": {},
   "source": [
    "## Constants"
   ]
  },
  {
   "cell_type": "code",
   "execution_count": 2,
   "id": "d5f296ed",
   "metadata": {},
   "outputs": [],
   "source": [
    "DOWNSAMPLING_STEP = 4\n",
    "NUM_CLASSES = 4\n",
    "\n",
    "ENCODE_MAP = {\n",
    "        'rest': 0,\n",
    "        'motor': 1,\n",
    "        'memory': 2,\n",
    "        'math': 3,\n",
    "    }"
   ]
  },
  {
   "cell_type": "markdown",
   "id": "4b4a48b5",
   "metadata": {},
   "source": [
    "## Load data"
   ]
  },
  {
   "cell_type": "code",
   "execution_count": 3,
   "id": "82f16469",
   "metadata": {},
   "outputs": [],
   "source": [
    "def get_dataset_name(filename_with_dir):\n",
    "    filename_without_dir = str(filename_with_dir.name)\n",
    "    temp = filename_without_dir.split('_')[:-1]\n",
    "    dataset_name = '_'.join(temp)\n",
    "    # chunk_n = filename_without_dir.split('_').split('.')[0]\n",
    "    return dataset_name\n",
    "\n",
    "\n",
    "def extract_label(filename, logs=False, encode_mapping=ENCODE_MAP):\n",
    "    if 'rest' in filename:\n",
    "        print(f'Mapping label {filename} to {encode_mapping[\"rest\"]}') if logs else None\n",
    "        return encode_mapping['rest']\n",
    "    elif 'motor' in filename:\n",
    "        print(f'Mapping label {filename} to {encode_mapping[\"motor\"]}') if logs else None\n",
    "        return encode_mapping['motor']\n",
    "    elif 'memory' in filename:\n",
    "        print(f'Mapping label {filename} to {encode_mapping[\"memory\"]}') if logs else None\n",
    "        return encode_mapping['memory']\n",
    "    else:\n",
    "        print(f'Mapping label {filename} to {encode_mapping[\"math\"]}') if logs else None\n",
    "        return encode_mapping['math']\n",
    "\n",
    "\n",
    "def load_all_data(folder_path, logs=False, batch_size=100):\n",
    "    folder_path = Path(folder_path)\n",
    "    X = []\n",
    "    y = []\n",
    "\n",
    "    for filename in os.listdir(folder_path):\n",
    "        # current_chunk\n",
    "        if filename.endswith('.h5'):\n",
    "            print(f\"Loading {filename}...\") if logs else None\n",
    "            file_path = folder_path / filename\n",
    "            with h5py.File(file_path, 'r') as f:\n",
    "                dataset_name = get_dataset_name(file_path)\n",
    "                data = f.get(dataset_name)[()]\n",
    "                data = data.T\n",
    "\n",
    "                num_batches = len(data) // batch_size\n",
    "                data_batches = np.split(data[:num_batches * batch_size], num_batches)\n",
    "                print(len(data_batches))\n",
    "\n",
    "                label = extract_label(filename)\n",
    "                print(f\"Data shape: {data.shape}, label: {label}\") if logs else None\n",
    "\n",
    "                X += data_batches\n",
    "                # X.append(data)       # shape (248, 35624)\n",
    "                y += [label]*num_batches\n",
    "\n",
    "    X = np.array(X)  # shape (n_samples, 248, 35624)\n",
    "    print(X.shape)\n",
    "    y = np.array(y)  # shape (n_samples,)\n",
    "    print(y.shape)\n",
    "    return X, y"
   ]
  },
  {
   "cell_type": "markdown",
   "id": "18e9b78f",
   "metadata": {},
   "source": [
    "## Preprocessing"
   ]
  },
  {
   "cell_type": "code",
   "execution_count": 4,
   "id": "87a48c98",
   "metadata": {},
   "outputs": [],
   "source": [
    "def z_score_normalize(data):\n",
    "    # data: shape (248,)\n",
    "    mean = np.mean(data)\n",
    "    std = np.std(data) + 1e-8\n",
    "    return (data - mean) / std\n",
    "\n",
    "def downsample(data, step=DOWNSAMPLING_STEP):\n",
    "    # data: shape (248,)\n",
    "    return data[::step]\n"
   ]
  },
  {
   "cell_type": "code",
   "execution_count": 6,
   "id": "e9544501",
   "metadata": {},
   "outputs": [
    {
     "name": "stdout",
     "output_type": "stream",
     "text": [
      "Loading rest_105923_8.h5...\n",
      "356\n",
      "Data shape: (35624, 248), label: 0\n",
      "Loading task_story_math_105923_4.h5...\n",
      "356\n",
      "Data shape: (35624, 248), label: 3\n",
      "Loading task_motor_105923_8.h5...\n",
      "356\n",
      "Data shape: (35624, 248), label: 1\n",
      "Loading task_story_math_105923_1.h5...\n",
      "356\n",
      "Data shape: (35624, 248), label: 3\n",
      "Loading task_story_math_105923_5.h5...\n",
      "356\n",
      "Data shape: (35624, 248), label: 3\n",
      "Loading task_working_memory_105923_5.h5...\n",
      "356\n",
      "Data shape: (35624, 248), label: 2\n",
      "Loading task_motor_105923_7.h5...\n",
      "356\n",
      "Data shape: (35624, 248), label: 1\n",
      "Loading rest_105923_2.h5...\n",
      "356\n",
      "Data shape: (35624, 248), label: 0\n",
      "Loading rest_105923_6.h5...\n",
      "356\n",
      "Data shape: (35624, 248), label: 0\n",
      "Loading task_working_memory_105923_1.h5...\n",
      "356\n",
      "Data shape: (35624, 248), label: 2\n",
      "Loading task_motor_105923_3.h5...\n",
      "356\n",
      "Data shape: (35624, 248), label: 1\n",
      "Loading rest_105923_7.h5...\n",
      "356\n",
      "Data shape: (35624, 248), label: 0\n",
      "Loading task_motor_105923_2.h5...\n",
      "356\n",
      "Data shape: (35624, 248), label: 1\n",
      "Loading task_working_memory_105923_4.h5...\n",
      "356\n",
      "Data shape: (35624, 248), label: 2\n",
      "Loading task_motor_105923_6.h5...\n",
      "356\n",
      "Data shape: (35624, 248), label: 1\n",
      "Loading rest_105923_3.h5...\n",
      "356\n",
      "Data shape: (35624, 248), label: 0\n",
      "Loading rest_105923_4.h5...\n",
      "356\n",
      "Data shape: (35624, 248), label: 0\n",
      "Loading task_motor_105923_1.h5...\n",
      "356\n",
      "Data shape: (35624, 248), label: 1\n",
      "Loading task_working_memory_105923_3.h5...\n",
      "356\n",
      "Data shape: (35624, 248), label: 2\n",
      "Loading task_story_math_105923_8.h5...\n",
      "356\n",
      "Data shape: (35624, 248), label: 3\n",
      "Loading task_motor_105923_5.h5...\n",
      "356\n",
      "Data shape: (35624, 248), label: 1\n",
      "Loading task_working_memory_105923_7.h5...\n",
      "356\n",
      "Data shape: (35624, 248), label: 2\n",
      "Loading task_motor_105923_4.h5...\n",
      "356\n",
      "Data shape: (35624, 248), label: 1\n",
      "Loading task_working_memory_105923_6.h5...\n",
      "356\n",
      "Data shape: (35624, 248), label: 2\n",
      "Loading rest_105923_1.h5...\n",
      "356\n",
      "Data shape: (35624, 248), label: 0\n",
      "Loading rest_105923_5.h5...\n",
      "356\n",
      "Data shape: (35624, 248), label: 0\n",
      "Loading task_working_memory_105923_2.h5...\n",
      "356\n",
      "Data shape: (35624, 248), label: 2\n",
      "Loading task_story_math_105923_2.h5...\n",
      "356\n",
      "Data shape: (35624, 248), label: 3\n",
      "Loading task_story_math_105923_6.h5...\n",
      "356\n",
      "Data shape: (35624, 248), label: 3\n",
      "Loading task_story_math_105923_7.h5...\n",
      "356\n",
      "Data shape: (35624, 248), label: 3\n",
      "Loading task_working_memory_105923_8.h5...\n",
      "356\n",
      "Data shape: (35624, 248), label: 2\n",
      "Loading task_story_math_105923_3.h5...\n",
      "356\n",
      "Data shape: (35624, 248), label: 3\n",
      "(11392, 100, 248)\n",
      "(11392,)\n"
     ]
    }
   ],
   "source": [
    "# Specify the folder name and load the data. (Don't push data folders to GitHub!!!)\n",
    "X_train, y_train = load_all_data(\"Intra/train\", logs=1)"
   ]
  },
  {
   "cell_type": "code",
   "execution_count": null,
   "id": "9ed61e9e",
   "metadata": {},
   "outputs": [
    {
     "name": "stdout",
     "output_type": "stream",
     "text": [
      "(11392, 100, 248)\n",
      "(11392,)\n"
     ]
    }
   ],
   "source": [
    "print(X_train.shape)\n",
    "print(y_train.shape)"
   ]
  },
  {
   "cell_type": "code",
   "execution_count": 7,
   "id": "17eb0e9f",
   "metadata": {},
   "outputs": [
    {
     "name": "stdout",
     "output_type": "stream",
     "text": [
      "X_train shape before preprocessing (11392, 100, 248)\n",
      "X_train shape after preprocessing (11392, 100, 248)\n"
     ]
    }
   ],
   "source": [
    "print(f\"X_train shape before preprocessing {np.array(X_train).shape}\")  # 3D array: (n_samples, n_channels, n_times)\n",
    "X_train = z_score_normalize(X_train) # TODO DOWNSAMPLE\n",
    "X_train = np.array(X_train)  # shape (n_samples, n_channels, n_times)\n",
    "# X_train = np.transpose(X_train, (0, 2, 1))\n",
    "\n",
    "# perm = np.random.permutation(len(X_train))\n",
    "# X_train = X_train[perm]\n",
    "# y_train = y_train[perm]\n",
    "X_train, y_train = shuffle(X_train, y_train)\n",
    "\n",
    "\n",
    "print(f\"X_train shape after preprocessing {np.array(X_train).shape}\")  # 3D array: (n_samples, n_channels, n_times)\n"
   ]
  },
  {
   "cell_type": "code",
   "execution_count": 8,
   "id": "0c1f60b5",
   "metadata": {},
   "outputs": [
    {
     "data": {
      "text/plain": [
       "array([1, 1, 1, ..., 2, 1, 1])"
      ]
     },
     "execution_count": 8,
     "metadata": {},
     "output_type": "execute_result"
    }
   ],
   "source": [
    "y_train"
   ]
  },
  {
   "cell_type": "markdown",
   "id": "e491ab1b",
   "metadata": {},
   "source": [
    "## LSTM Model only"
   ]
  },
  {
   "cell_type": "code",
   "execution_count": 116,
   "id": "78b8c0fa",
   "metadata": {},
   "outputs": [],
   "source": [
    "\n",
    "time_steps = X_train.shape[1]\n",
    "num_channels = X_train.shape[2]\n",
    "\n",
    "if y_train.ndim == 1:\n",
    "    y_train = to_categorical(y_train, num_classes=NUM_CLASSES)\n",
    "\n",
    "early_stop = EarlyStopping(\n",
    "    monitor='val_loss',\n",
    "    patience=5,\n",
    "    restore_best_weights=True\n",
    ")\n",
    "\n",
    "# Define LSTM model\n",
    "lstm_model = Sequential([\n",
    "    TimeDistributed(Dense(128, kernel_regularizer=l2(1e-4)), input_shape=(time_steps, num_channels)),\n",
    "    \n",
    "    LSTM(128, return_sequences=True, kernel_regularizer=l2(1e-4)),\n",
    "    BatchNormalization(),\n",
    "    Dropout(0.5),\n",
    "\n",
    "    LSTM(64, kernel_regularizer=l2(1e-3)),\n",
    "    BatchNormalization(),\n",
    "    Dropout(0.5),\n",
    "\n",
    "    Dense(64, activation='relu', kernel_regularizer=l2(1e-3)),\n",
    "    Dropout(0.5),\n",
    "\n",
    "    Dense(NUM_CLASSES, activation='softmax')\n",
    "])\n",
    "\n",
    "lstm_model.compile(optimizer=Nadam(learning_rate=0.0001),\n",
    "                   loss='categorical_crossentropy',\n",
    "                   metrics=['accuracy'])\n"
   ]
  },
  {
   "cell_type": "code",
   "execution_count": 117,
   "id": "75375aa1",
   "metadata": {},
   "outputs": [
    {
     "name": "stdout",
     "output_type": "stream",
     "text": [
      "Epoch 1/3\n",
      "285/285 [==============================] - 45s 136ms/step - loss: 0.6518 - accuracy: 0.8645 - val_loss: 1.4479 - val_accuracy: 0.4224\n",
      "Epoch 2/3\n",
      "285/285 [==============================] - 38s 134ms/step - loss: 0.2621 - accuracy: 0.9882 - val_loss: 4.5884 - val_accuracy: 0.2449\n",
      "Epoch 3/3\n",
      "285/285 [==============================] - 39s 137ms/step - loss: 0.2065 - accuracy: 0.9925 - val_loss: 1.7868 - val_accuracy: 0.7514\n"
     ]
    }
   ],
   "source": [
    "# np.random.shuffle(array)\n",
    "\n",
    "\n",
    "history = lstm_model.fit(\n",
    "    X_train, y_train,   \n",
    "    epochs=3,\n",
    "    batch_size=20,\n",
    "    validation_split=0.5,\n",
    "    callbacks=[early_stop],\n",
    "    verbose=1\n",
    ")\n"
   ]
  },
  {
   "cell_type": "code",
   "execution_count": 8,
   "id": "57f67987",
   "metadata": {},
   "outputs": [
    {
     "name": "stderr",
     "output_type": "stream",
     "text": [
      "/Library/Frameworks/Python.framework/Versions/3.12/lib/python3.12/site-packages/keras/src/layers/convolutional/base_conv.py:107: UserWarning: Do not pass an `input_shape`/`input_dim` argument to a layer. When using Sequential models, prefer using an `Input(shape)` object as the first layer in the model instead.\n",
      "  super().__init__(activity_regularizer=activity_regularizer, **kwargs)\n"
     ]
    },
    {
     "name": "stdout",
     "output_type": "stream",
     "text": [
      "Epoch 1/15\n",
      "\u001b[1m178/178\u001b[0m \u001b[32m━━━━━━━━━━━━━━━━━━━━\u001b[0m\u001b[37m\u001b[0m \u001b[1m16s\u001b[0m 78ms/step - accuracy: 0.1660 - loss: 1.8674 - val_accuracy: 0.2474 - val_loss: 1.6341\n",
      "Epoch 2/15\n",
      "\u001b[1m178/178\u001b[0m \u001b[32m━━━━━━━━━━━━━━━━━━━━\u001b[0m\u001b[37m\u001b[0m \u001b[1m14s\u001b[0m 77ms/step - accuracy: 0.1945 - loss: 1.7887 - val_accuracy: 0.2502 - val_loss: 1.6335\n",
      "Epoch 3/15\n",
      "\u001b[1m178/178\u001b[0m \u001b[32m━━━━━━━━━━━━━━━━━━━━\u001b[0m\u001b[37m\u001b[0m \u001b[1m14s\u001b[0m 78ms/step - accuracy: 0.2441 - loss: 1.7213 - val_accuracy: 0.2732 - val_loss: 1.6203\n",
      "Epoch 4/15\n",
      "\u001b[1m178/178\u001b[0m \u001b[32m━━━━━━━━━━━━━━━━━━━━\u001b[0m\u001b[37m\u001b[0m \u001b[1m14s\u001b[0m 78ms/step - accuracy: 0.2845 - loss: 1.6429 - val_accuracy: 0.3685 - val_loss: 1.5610\n",
      "Epoch 5/15\n",
      "\u001b[1m178/178\u001b[0m \u001b[32m━━━━━━━━━━━━━━━━━━━━\u001b[0m\u001b[37m\u001b[0m \u001b[1m14s\u001b[0m 78ms/step - accuracy: 0.3324 - loss: 1.5946 - val_accuracy: 0.5063 - val_loss: 1.4799\n",
      "Epoch 6/15\n",
      "\u001b[1m178/178\u001b[0m \u001b[32m━━━━━━━━━━━━━━━━━━━━\u001b[0m\u001b[37m\u001b[0m \u001b[1m14s\u001b[0m 80ms/step - accuracy: 0.3738 - loss: 1.5403 - val_accuracy: 0.6601 - val_loss: 1.4149\n",
      "Epoch 7/15\n",
      "\u001b[1m178/178\u001b[0m \u001b[32m━━━━━━━━━━━━━━━━━━━━\u001b[0m\u001b[37m\u001b[0m \u001b[1m14s\u001b[0m 80ms/step - accuracy: 0.4135 - loss: 1.4914 - val_accuracy: 0.6898 - val_loss: 1.3653\n",
      "Epoch 8/15\n",
      "\u001b[1m178/178\u001b[0m \u001b[32m━━━━━━━━━━━━━━━━━━━━\u001b[0m\u001b[37m\u001b[0m \u001b[1m14s\u001b[0m 81ms/step - accuracy: 0.4621 - loss: 1.4420 - val_accuracy: 0.6989 - val_loss: 1.3220\n",
      "Epoch 9/15\n",
      "\u001b[1m178/178\u001b[0m \u001b[32m━━━━━━━━━━━━━━━━━━━━\u001b[0m\u001b[37m\u001b[0m \u001b[1m15s\u001b[0m 82ms/step - accuracy: 0.4980 - loss: 1.4045 - val_accuracy: 0.7930 - val_loss: 1.2810\n",
      "Epoch 10/15\n",
      "\u001b[1m178/178\u001b[0m \u001b[32m━━━━━━━━━━━━━━━━━━━━\u001b[0m\u001b[37m\u001b[0m \u001b[1m15s\u001b[0m 82ms/step - accuracy: 0.5284 - loss: 1.3653 - val_accuracy: 0.7760 - val_loss: 1.2480\n",
      "Epoch 11/15\n",
      "\u001b[1m178/178\u001b[0m \u001b[32m━━━━━━━━━━━━━━━━━━━━\u001b[0m\u001b[37m\u001b[0m \u001b[1m14s\u001b[0m 81ms/step - accuracy: 0.5732 - loss: 1.3245 - val_accuracy: 0.8315 - val_loss: 1.2133\n",
      "Epoch 12/15\n",
      "\u001b[1m178/178\u001b[0m \u001b[32m━━━━━━━━━━━━━━━━━━━━\u001b[0m\u001b[37m\u001b[0m \u001b[1m14s\u001b[0m 80ms/step - accuracy: 0.5914 - loss: 1.2940 - val_accuracy: 0.8294 - val_loss: 1.1841\n",
      "Epoch 13/15\n",
      "\u001b[1m178/178\u001b[0m \u001b[32m━━━━━━━━━━━━━━━━━━━━\u001b[0m\u001b[37m\u001b[0m \u001b[1m14s\u001b[0m 79ms/step - accuracy: 0.6167 - loss: 1.2512 - val_accuracy: 0.8501 - val_loss: 1.1522\n",
      "Epoch 14/15\n",
      "\u001b[1m178/178\u001b[0m \u001b[32m━━━━━━━━━━━━━━━━━━━━\u001b[0m\u001b[37m\u001b[0m \u001b[1m14s\u001b[0m 80ms/step - accuracy: 0.6437 - loss: 1.2369 - val_accuracy: 0.8541 - val_loss: 1.1222\n",
      "Epoch 15/15\n",
      "\u001b[1m178/178\u001b[0m \u001b[32m━━━━━━━━━━━━━━━━━━━━\u001b[0m\u001b[37m\u001b[0m \u001b[1m15s\u001b[0m 83ms/step - accuracy: 0.6526 - loss: 1.1990 - val_accuracy: 0.8548 - val_loss: 1.0946\n"
     ]
    }
   ],
   "source": [
    "from sklearn.model_selection import train_test_split\n",
    "from sklearn.utils import shuffle\n",
    "\n",
    "# Shuffle data\n",
    "X_train, y_train = shuffle(X_train, y_train, random_state=42)\n",
    "\n",
    "# One-hot encode if needed\n",
    "if y_train.ndim == 1:\n",
    "    y_train = to_categorical(y_train, num_classes=NUM_CLASSES)\n",
    "\n",
    "# Split manually (50% validation)\n",
    "X_train_split, X_val_split, y_train_split, y_val_split = train_test_split(\n",
    "    X_train, y_train, test_size=0.5, random_state=42, stratify=y_train.argmax(axis=1))\n",
    "\n",
    "# Model definition\n",
    "time_steps = X_train.shape[1]\n",
    "num_channels = X_train.shape[2]\n",
    "\n",
    "early_stop = EarlyStopping(\n",
    "    monitor='val_loss',\n",
    "    patience=5,\n",
    "    restore_best_weights=True\n",
    ")\n",
    "\n",
    "lstm_model = Sequential([\n",
    "    Conv1D(64, kernel_size=1, activation='linear', input_shape=(time_steps, num_channels)),\n",
    "    \n",
    "    LSTM(128, return_sequences=True, kernel_regularizer=l2(1e-4)),\n",
    "    BatchNormalization(),\n",
    "    Dropout(0.4),\n",
    "\n",
    "    LSTM(64, kernel_regularizer=l2(1e-3)),\n",
    "    BatchNormalization(),\n",
    "    Dropout(0.4),\n",
    "\n",
    "    Dense(64, activation='relu', kernel_regularizer=l2(1e-3)),\n",
    "    Dropout(0.4),\n",
    "\n",
    "    Dense(NUM_CLASSES, activation='softmax')\n",
    "])\n",
    "\n",
    "\n",
    "lstm_model.compile(\n",
    "    optimizer=Nadam(learning_rate=1e-6),\n",
    "    loss='categorical_crossentropy',\n",
    "    metrics=['accuracy']\n",
    ")\n",
    "\n",
    "history = lstm_model.fit(\n",
    "    X_train_split, y_train_split,\n",
    "    validation_data=(X_val_split, y_val_split),\n",
    "    epochs=15,\n",
    "    batch_size=32,\n",
    "    callbacks=[early_stop],\n",
    "    verbose=1\n",
    ")\n"
   ]
  },
  {
   "cell_type": "markdown",
   "id": "1aa4b76a",
   "metadata": {},
   "source": [
    "## Testing and evaluating part"
   ]
  },
  {
   "cell_type": "code",
   "execution_count": 10,
   "id": "b8f209ec",
   "metadata": {},
   "outputs": [
    {
     "name": "stdout",
     "output_type": "stream",
     "text": [
      "356\n",
      "356\n",
      "356\n",
      "356\n",
      "356\n",
      "356\n",
      "356\n",
      "356\n",
      "(2848, 100, 248)\n",
      "(2848,)\n",
      "X_test shape before preprocessing: (2848, 100, 248)\n",
      "X_test shape after preprocessing: (2848, 100, 248)\n"
     ]
    }
   ],
   "source": [
    "# Load and preprocess test data\n",
    "X_test, y_test = load_all_data(\"Data/Intra/test\", logs=0)\n",
    "print(f\"X_test shape before preprocessing: {np.array(X_test).shape}\")\n",
    "\n",
    "X_test = z_score_normalize(X_test) # TODO DOWNSAMPLE\n",
    "\n",
    "X_test = np.array(X_test)\n",
    "print(f\"X_test shape after preprocessing: {np.array(X_test).shape}\")\n",
    "\n",
    "# One-hot encode labels\n",
    "y_test = to_categorical(y_test, num_classes=4)"
   ]
  },
  {
   "cell_type": "code",
   "execution_count": 22,
   "id": "c210a074",
   "metadata": {},
   "outputs": [
    {
     "name": "stdout",
     "output_type": "stream",
     "text": [
      "89/89 [==============================] - 3s 33ms/step - loss: 0.7820 - accuracy: 0.9996\n",
      "Test accuracy: 0.9996488690376282\n"
     ]
    }
   ],
   "source": [
    "# Evaluate\n",
    "test_loss, test_acc = lstm_model.evaluate(X_test, y_test, verbose=1)\n",
    "print(\"Test accuracy:\", test_acc)"
   ]
  },
  {
   "cell_type": "code",
   "execution_count": 23,
   "id": "a84422ce",
   "metadata": {},
   "outputs": [
    {
     "data": {
      "image/png": "[encoded data removed]",
      "text/plain": [
       "<Figure size 1200x400 with 2 Axes>"
      ]
     },
     "metadata": {},
     "output_type": "display_data"
    }
   ],
   "source": [
    "# Plot accuracy\n",
    "plt.figure(figsize=(12, 4))\n",
    "\n",
    "plt.subplot(1, 2, 1)\n",
    "plt.plot(history.history['accuracy'], label='Train Acc')\n",
    "plt.plot(history.history['val_accuracy'], label='Val Acc')\n",
    "plt.title('Model Accuracy')\n",
    "plt.xlabel('Epoch')\n",
    "plt.ylabel('Accuracy')\n",
    "plt.ylim((0,1))\n",
    "plt.legend()\n",
    "\n",
    "# Plot loss\n",
    "plt.subplot(1, 2, 2)\n",
    "plt.plot(history.history['loss'], label='Train Loss')\n",
    "plt.plot(history.history['val_loss'], label='Val Loss')\n",
    "plt.title('Model Loss')\n",
    "plt.xlabel('Epoch')\n",
    "plt.ylabel('Loss')\n",
    "plt.legend()\n",
    "\n",
    "plt.tight_layout()\n",
    "plt.show()\n"
   ]
  },
  {
   "cell_type": "code",
   "execution_count": 24,
   "id": "80cf851b",
   "metadata": {},
   "outputs": [
    {
     "name": "stdout",
     "output_type": "stream",
     "text": [
      "89/89 [==============================] - 3s 28ms/step\n"
     ]
    },
    {
     "data": {
      "image/png": "[encoded data removed]",
      "text/plain": [
       "<Figure size 640x480 with 2 Axes>"
      ]
     },
     "metadata": {},
     "output_type": "display_data"
    }
   ],
   "source": [
    "# Predict class probabilities\n",
    "y_pred_probs = lstm_model.predict(X_test)\n",
    "# Convert one-hot back to class labels\n",
    "y_pred = np.argmax(y_pred_probs, axis=1)\n",
    "y_true = np.argmax(y_test, axis=1)\n",
    "\n",
    "# Confusion matrix\n",
    "cm = confusion_matrix(y_true, y_pred)\n",
    "disp = ConfusionMatrixDisplay(confusion_matrix=cm, display_labels=[\"rest\", \"motor\", \"memory\", \"math\"])\n",
    "disp.plot(cmap=plt.cm.Blues)\n",
    "plt.title(\"Confusion Matrix\")\n",
    "plt.show()\n"
   ]
  },
  {
   "cell_type": "markdown",
   "id": "db387acd",
   "metadata": {},
   "source": [
    "# Cross"
   ]
  },
  {
   "cell_type": "code",
   "execution_count": 14,
   "id": "6c680901",
   "metadata": {},
   "outputs": [
    {
     "name": "stdout",
     "output_type": "stream",
     "text": [
      "356\n",
      "356\n",
      "356\n",
      "356\n",
      "356\n",
      "356\n",
      "356\n",
      "356\n",
      "356\n",
      "356\n",
      "356\n",
      "356\n",
      "356\n",
      "356\n",
      "356\n",
      "356\n",
      "(5696, 100, 248)\n",
      "(5696,)\n",
      "X_test shape before preprocessing: (5696, 100, 248)\n",
      "X_test_cross shape after preprocessing: (5696, 100, 248)\n"
     ]
    }
   ],
   "source": [
    "# Load and preprocess test data\n",
    "X_test_cross, y_test_cross = load_all_data(\"Data/Cross/test1/\", logs=0)\n",
    "print(f\"X_test shape before preprocessing: {np.array(X_test_cross).shape}\")\n",
    "\n",
    "X_test_cross = z_score_normalize(X_test_cross) # TODO DOWNSAMPLE\n",
    "\n",
    "X_test_cross = np.array(X_test_cross)\n",
    "print(f\"X_test_cross shape after preprocessing: {np.array(X_test_cross).shape}\")\n",
    "\n",
    "# One-hot encode labels\n",
    "y_test_cross = to_categorical(y_test_cross, num_classes=4)"
   ]
  },
  {
   "cell_type": "code",
   "execution_count": 25,
   "id": "2a55a367",
   "metadata": {},
   "outputs": [
    {
     "name": "stdout",
     "output_type": "stream",
     "text": [
      "178/178 [==============================] - 8s 43ms/step - loss: 1.3248 - accuracy: 0.4709\n",
      "Test accuracy: 0.47085675597190857\n"
     ]
    }
   ],
   "source": [
    "# Evaluate\n",
    "test_loss_cross, test_acc_cross = lstm_model.evaluate(X_test_cross, y_test_cross, verbose=1)\n",
    "print(\"Test accuracy:\", test_acc_cross)"
   ]
  }
 ],
 "metadata": {
  "kernelspec": {
   "display_name": "Python 3",
   "language": "python",
   "name": "python3"
  },
  "language_info": {
   "codemirror_mode": {
    "name": "ipython",
    "version": 3
   },
   "file_extension": ".py",
   "mimetype": "text/x-python",
   "name": "python",
   "nbconvert_exporter": "python",
   "pygments_lexer": "ipython3",
   "version": "3.12.4"
  }
 },
 "nbformat": 4,
 "nbformat_minor": 5
}
