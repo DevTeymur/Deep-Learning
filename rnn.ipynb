{
 "cells": [
  {
   "cell_type": "code",
   "execution_count": 2,
   "id": "53c00560",
   "metadata": {},
   "outputs": [],
   "source": [
    "import scipy.io\n",
    "from sklearn.preprocessing import MinMaxScaler\n",
    "import matplotlib.pyplot as plt\n",
    "import numpy as np\n",
    "import pandas as pd\n",
    "from tensorflow.keras.models import Sequential\n",
    "from tensorflow.keras.layers import LSTM, Dense, SimpleRNN\n",
    "from sklearn.metrics import mean_squared_error"
   ]
  },
  {
   "cell_type": "code",
   "execution_count": 3,
   "id": "ccea5f41",
   "metadata": {},
   "outputs": [],
   "source": [
    "mat = scipy.io.loadmat('Xtrain.mat')\n",
    "data = mat['Xtrain']\n",
    "\n",
    "scaler = MinMaxScaler()\n",
    "scaled_data = scaler.fit_transform(data)\n",
    "\n",
    "# 800 for train, 200 for test\n",
    "train_data = scaled_data[:800]\n",
    "test_data = scaled_data[800:]\n",
    "\n",
    "predict_length = 200"
   ]
  },
  {
   "cell_type": "code",
   "execution_count": 11,
   "id": "3fe45a02",
   "metadata": {},
   "outputs": [],
   "source": [
    "def train(ws,verbose=0):\n",
    "    window_size = ws  # number of past steps to use\n",
    "\n",
    "    X, y = [], []\n",
    "    for i in range(window_size,len(train_data) - window_size - predict_length + 1):\n",
    "        X.append(train_data[i-window_size:i])\n",
    "        y.append(train_data[i])\n",
    "    X = np.array(X)\n",
    "    y = np.array(y)\n",
    "\n",
    "    X = X.reshape((X.shape[0], X.shape[1], 1))\n",
    "\n",
    "    model = Sequential()\n",
    "    model.add(LSTM(32, activation='relu', input_shape=(window_size, 1)))\n",
    "    model.add(Dense(32, activation='relu'))\n",
    "    model.add(Dense(1)) \n",
    "    model.compile(optimizer='adam', loss='mse')\n",
    "\n",
    "    model.fit(X, y, epochs=20, batch_size=32,verbose=verbose)\n",
    "\n",
    "    return model"
   ]
  },
  {
   "cell_type": "code",
   "execution_count": 12,
   "id": "0db932ca",
   "metadata": {},
   "outputs": [],
   "source": [
    "def test(ws,model,verbose=0):\n",
    "    window_size = ws\n",
    "    # Predicting next 200 values 1 value at a time\n",
    "    current_seq = train_data[-window_size:].flatten().tolist()\n",
    "    predictions = []\n",
    "\n",
    "    for _ in range(window_size,len(test_data)):\n",
    "        input_seq = np.array(current_seq[-window_size:]).reshape(1, window_size, 1)\n",
    "        next_pred = model.predict(input_seq,verbose=verbose)[0][0]\n",
    "        predictions.append(next_pred)\n",
    "        current_seq.append(next_pred)\n",
    "\n",
    "    # print(\"Predicted next 200 values:\")\n",
    "    # print(predictions)\n",
    "\n",
    "    true_test = test_data[window_size:].flatten()\n",
    "    predicted = np.clip(np.array(predictions).flatten(),-10000,10000)\n",
    "\n",
    "    return true_test, predicted\n",
    "\n",
    "\n",
    "def evaluate(true_test: np.ndarray,predicted:np.ndarray,window_size: int):\n",
    "    mse = mean_squared_error(true_test, predicted)\n",
    "    print(f\"windows size {window_size} -> Mean Squared Error:\", mse)\n",
    "\n",
    "    plt.figure(figsize=(20,3))\n",
    "    plt.ylim((0,1))\n",
    "    plt.title(f\"WS: {window_size}. MSE: {mse}\")\n",
    "    plt.plot(true_test,c='green')\n",
    "    plt.plot(predicted)\n",
    "\n",
    "    SE = (predicted - true_test) ** 2\n",
    "    plt.plot(SE,c='pink')\n",
    "    plt.savefig(f\"plots/prediction ws{window_size}.png\")\n",
    "\n",
    "    return {\"window_size\":window_size,\"mse\":mse}"
   ]
  },
  {
   "cell_type": "code",
   "execution_count": null,
   "id": "b4a6af00",
   "metadata": {},
   "outputs": [
    {
     "name": "stdout",
     "output_type": "stream",
     "text": [
      "windows size 1 -> Mean Squared Error: 0.03120281942538077\n",
      "windows size 2 -> Mean Squared Error: 0.0401639417186841\n",
      "windows size 3 -> Mean Squared Error: 0.023244478906856693\n",
      "windows size 4 -> Mean Squared Error: 0.03567874058521203\n",
      "windows size 5 -> Mean Squared Error: 0.07121098512323458\n",
      "windows size 6 -> Mean Squared Error: 0.0396854821493544\n",
      "windows size 7 -> Mean Squared Error: 8090636.895787378\n",
      "windows size 8 -> Mean Squared Error: 0.03781676478008569\n",
      "windows size 9 -> Mean Squared Error: 0.04085642522831165\n",
      "windows size 10 -> Mean Squared Error: 0.03929003279575467\n"
     ]
    }
   ],
   "source": [
    "results = []\n",
    "\n",
    "min_window_size = 1\n",
    "max_window_size = 100\n",
    "\n",
    "for i in range(min_window_size,max_window_size):\n",
    "    ws = i\n",
    "    model = train(ws,0)\n",
    "    true_test,predicted = test(ws,model,0)\n",
    "    res = evaluate(true_test,predicted, ws)\n",
    "    results.append(res)\n"
   ]
  },
  {
   "cell_type": "code",
   "execution_count": 26,
   "id": "510f8bea",
   "metadata": {},
   "outputs": [
    {
     "data": {
      "text/html": [
       "<div>\n",
       "<style scoped>\n",
       "    .dataframe tbody tr th:only-of-type {\n",
       "        vertical-align: middle;\n",
       "    }\n",
       "\n",
       "    .dataframe tbody tr th {\n",
       "        vertical-align: top;\n",
       "    }\n",
       "\n",
       "    .dataframe thead th {\n",
       "        text-align: right;\n",
       "    }\n",
       "</style>\n",
       "<table border=\"1\" class=\"dataframe\">\n",
       "  <thead>\n",
       "    <tr style=\"text-align: right;\">\n",
       "      <th></th>\n",
       "      <th>window_size</th>\n",
       "      <th>mse</th>\n",
       "    </tr>\n",
       "  </thead>\n",
       "  <tbody>\n",
       "    <tr>\n",
       "      <th>22</th>\n",
       "      <td>23</td>\n",
       "      <td>0.020497</td>\n",
       "    </tr>\n",
       "    <tr>\n",
       "      <th>28</th>\n",
       "      <td>29</td>\n",
       "      <td>0.022270</td>\n",
       "    </tr>\n",
       "    <tr>\n",
       "      <th>63</th>\n",
       "      <td>64</td>\n",
       "      <td>0.023320</td>\n",
       "    </tr>\n",
       "    <tr>\n",
       "      <th>79</th>\n",
       "      <td>80</td>\n",
       "      <td>0.023979</td>\n",
       "    </tr>\n",
       "    <tr>\n",
       "      <th>56</th>\n",
       "      <td>57</td>\n",
       "      <td>0.025953</td>\n",
       "    </tr>\n",
       "    <tr>\n",
       "      <th>14</th>\n",
       "      <td>15</td>\n",
       "      <td>0.030734</td>\n",
       "    </tr>\n",
       "    <tr>\n",
       "      <th>71</th>\n",
       "      <td>72</td>\n",
       "      <td>0.031098</td>\n",
       "    </tr>\n",
       "    <tr>\n",
       "      <th>27</th>\n",
       "      <td>28</td>\n",
       "      <td>0.032148</td>\n",
       "    </tr>\n",
       "    <tr>\n",
       "      <th>29</th>\n",
       "      <td>30</td>\n",
       "      <td>0.033413</td>\n",
       "    </tr>\n",
       "    <tr>\n",
       "      <th>34</th>\n",
       "      <td>35</td>\n",
       "      <td>0.033741</td>\n",
       "    </tr>\n",
       "    <tr>\n",
       "      <th>57</th>\n",
       "      <td>58</td>\n",
       "      <td>0.033902</td>\n",
       "    </tr>\n",
       "    <tr>\n",
       "      <th>15</th>\n",
       "      <td>16</td>\n",
       "      <td>0.034147</td>\n",
       "    </tr>\n",
       "    <tr>\n",
       "      <th>4</th>\n",
       "      <td>5</td>\n",
       "      <td>0.034352</td>\n",
       "    </tr>\n",
       "    <tr>\n",
       "      <th>43</th>\n",
       "      <td>44</td>\n",
       "      <td>0.034872</td>\n",
       "    </tr>\n",
       "  </tbody>\n",
       "</table>\n",
       "</div>"
      ],
      "text/plain": [
       "    window_size       mse\n",
       "22           23  0.020497\n",
       "28           29  0.022270\n",
       "63           64  0.023320\n",
       "79           80  0.023979\n",
       "56           57  0.025953\n",
       "14           15  0.030734\n",
       "71           72  0.031098\n",
       "27           28  0.032148\n",
       "29           30  0.033413\n",
       "34           35  0.033741\n",
       "57           58  0.033902\n",
       "15           16  0.034147\n",
       "4             5  0.034352\n",
       "43           44  0.034872"
      ]
     },
     "execution_count": 26,
     "metadata": {},
     "output_type": "execute_result"
    }
   ],
   "source": [
    "results_df = pd.DataFrame(results)\n",
    "results_df.to_csv(\"RNN_testingresults.csv\")\n",
    "results_df[results_df['mse']<0.035].sort_values(by='mse')"
   ]
  },
  {
   "cell_type": "code",
   "execution_count": 18,
   "id": "afed4d38",
   "metadata": {},
   "outputs": [
    {
     "data": {
      "text/plain": [
       "[<matplotlib.lines.Line2D at 0x1f5b10f9870>,\n",
       " <matplotlib.lines.Line2D at 0x1f5b10fa290>]"
      ]
     },
     "execution_count": 18,
     "metadata": {},
     "output_type": "execute_result"
    },
    {
     "data": {
      "image/png": "[encoded data removed]",
      "text/plain": [
       "<Figure size 640x480 with 1 Axes>"
      ]
     },
     "metadata": {},
     "output_type": "display_data"
    }
   ],
   "source": [
    "plt.ylim((0,1))\n",
    "plt.plot(results_df)"
   ]
  },
  {
   "cell_type": "code",
   "execution_count": 30,
   "id": "1834a088",
   "metadata": {},
   "outputs": [
    {
     "data": {
      "text/plain": [
       "{'window_size': 50, 'mse': 0.03087220625339162}"
      ]
     },
     "execution_count": 30,
     "metadata": {},
     "output_type": "execute_result"
    }
   ],
   "source": [
    "results[49]"
   ]
  }
 ],
 "metadata": {
  "kernelspec": {
   "display_name": "DL",
   "language": "python",
   "name": "python3"
  },
  "language_info": {
   "codemirror_mode": {
    "name": "ipython",
    "version": 3
   },
   "file_extension": ".py",
   "mimetype": "text/x-python",
   "name": "python",
   "nbconvert_exporter": "python",
   "pygments_lexer": "ipython3",
   "version": "3.10.13"
  }
 },
 "nbformat": 4,
 "nbformat_minor": 5
}
