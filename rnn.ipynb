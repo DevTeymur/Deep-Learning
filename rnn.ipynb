{
 "cells": [
  {
   "cell_type": "code",
   "execution_count": 2,
   "id": "53c00560",
   "metadata": {},
   "outputs": [],
   "source": [
    "import scipy.io\n",
    "from sklearn.preprocessing import MinMaxScaler\n",
    "import matplotlib.pyplot as plt\n",
    "import numpy as np\n",
    "import pandas as pd\n",
    "from tensorflow.keras.models import Sequential\n",
    "from tensorflow.keras.layers import LSTM, Dense, SimpleRNN\n",
    "from sklearn.metrics import mean_squared_error"
   ]
  },
  {
   "cell_type": "code",
   "execution_count": 3,
   "id": "ccea5f41",
   "metadata": {},
   "outputs": [],
   "source": [
    "mat = scipy.io.loadmat('Xtrain.mat')\n",
    "data = mat['Xtrain']\n",
    "\n",
    "scaler = MinMaxScaler()\n",
    "scaled_data = scaler.fit_transform(data)\n",
    "\n",
    "# 800 for train, 200 for test\n",
    "train_data = scaled_data[:800]\n",
    "test_data = scaled_data[800:]\n",
    "\n",
    "predict_length = 200"
   ]
  },
  {
   "cell_type": "code",
   "execution_count": 11,
   "id": "3fe45a02",
   "metadata": {},
   "outputs": [],
   "source": [
    "def train(ws,verbose=0):\n",
    "    window_size = ws  # number of past steps to use\n",
    "\n",
    "    X, y = [], []\n",
    "    for i in range(window_size,len(train_data) - window_size - predict_length + 1):\n",
    "        X.append(train_data[i-window_size:i])\n",
    "        y.append(train_data[i])\n",
    "    X = np.array(X)\n",
    "    y = np.array(y)\n",
    "\n",
    "    X = X.reshape((X.shape[0], X.shape[1], 1))\n",
    "\n",
    "    model = Sequential()\n",
    "    model.add(LSTM(32, activation='relu', input_shape=(window_size, 1)))\n",
    "    model.add(Dense(32, activation='relu'))\n",
    "    model.add(Dense(1)) \n",
    "    model.compile(optimizer='adam', loss='mse')\n",
    "\n",
    "    model.fit(X, y, epochs=20, batch_size=32,verbose=verbose)\n",
    "\n",
    "    return model"
   ]
  },
  {
   "cell_type": "code",
   "execution_count": 25,
   "id": "0db932ca",
   "metadata": {},
   "outputs": [],
   "source": [
    "def test(ws,model,verbose=0):\n",
    "    window_size = ws\n",
    "    # Predicting next 200 values 1 value at a time\n",
    "    current_seq = train_data[-window_size:].flatten().tolist()\n",
    "    predictions = []\n",
    "\n",
    "    for _ in range(len(test_data)):\n",
    "        input_seq = np.array(current_seq[-window_size:]).reshape(1, window_size, 1)\n",
    "        next_pred = model.predict(input_seq,verbose=verbose)[0][0]\n",
    "        predictions.append(next_pred)\n",
    "        current_seq.append(next_pred)\n",
    "\n",
    "    # print(\"Predicted next 200 values:\")\n",
    "    # print(predictions)\n",
    "\n",
    "    true_test = test_data.flatten()\n",
    "    predicted = np.clip(np.array(predictions).flatten(),-10000,10000)\n",
    "\n",
    "    return true_test, predicted\n",
    "\n",
    "\n",
    "def evaluate(true_test: np.ndarray,predicted:np.ndarray,window_size: int):\n",
    "    mse = mean_squared_error(true_test, predicted)\n",
    "    print(f\"windows size {window_size} -> Mean Squared Error:\", mse)\n",
    "\n",
    "    plt.figure(figsize=(20,3))\n",
    "    plt.ylim((0,1))\n",
    "    plt.title(f\"WS: {window_size}. MSE: {mse}\")\n",
    "    plt.plot(true_test,c='green')\n",
    "    plt.plot(predicted)\n",
    "\n",
    "    SE = (predicted - true_test) ** 2\n",
    "    plt.plot(SE,c='pink')\n",
    "    plt.savefig(f\"plots/prediction ws{window_size}.png\")\n",
    "    plt.close()\n",
    "\n",
    "    return {\"window_size\":window_size,\"mse\":mse}"
   ]
  },
  {
   "cell_type": "code",
   "execution_count": null,
   "id": "b4a6af00",
   "metadata": {},
   "outputs": [
    {
     "name": "stdout",
     "output_type": "stream",
     "text": [
      "windows size 1 -> Mean Squared Error: 0.031593941522967975\n",
      "windows size 2 -> Mean Squared Error: 0.038989447729781156\n",
      "windows size 3 -> Mean Squared Error: 0.03426583584399233\n",
      "windows size 4 -> Mean Squared Error: 0.029679538246991474\n",
      "windows size 5 -> Mean Squared Error: 0.019896055560888512\n"
     ]
    }
   ],
   "source": [
    "results = []\n",
    "\n",
    "min_window_size = 1\n",
    "max_window_size = 100\n",
    "\n",
    "for i in range(min_window_size,max_window_size):\n",
    "    ws = i\n",
    "    model = train(ws,0)\n",
    "    true_test,predicted = test(ws,model,0)\n",
    "    res = evaluate(true_test,predicted, ws)\n",
    "    results.append(res)\n"
   ]
  },
  {
   "cell_type": "code",
   "execution_count": null,
   "id": "510f8bea",
   "metadata": {},
   "outputs": [
    {
     "data": {
      "text/html": [
       "<div>\n",
       "<style scoped>\n",
       "    .dataframe tbody tr th:only-of-type {\n",
       "        vertical-align: middle;\n",
       "    }\n",
       "\n",
       "    .dataframe tbody tr th {\n",
       "        vertical-align: top;\n",
       "    }\n",
       "\n",
       "    .dataframe thead th {\n",
       "        text-align: right;\n",
       "    }\n",
       "</style>\n",
       "<table border=\"1\" class=\"dataframe\">\n",
       "  <thead>\n",
       "    <tr style=\"text-align: right;\">\n",
       "      <th></th>\n",
       "      <th>window_size</th>\n",
       "      <th>mse</th>\n",
       "    </tr>\n",
       "  </thead>\n",
       "  <tbody>\n",
       "    <tr>\n",
       "      <th>20</th>\n",
       "      <td>21</td>\n",
       "      <td>0.018302</td>\n",
       "    </tr>\n",
       "    <tr>\n",
       "      <th>17</th>\n",
       "      <td>18</td>\n",
       "      <td>0.021826</td>\n",
       "    </tr>\n",
       "    <tr>\n",
       "      <th>28</th>\n",
       "      <td>29</td>\n",
       "      <td>0.022942</td>\n",
       "    </tr>\n",
       "    <tr>\n",
       "      <th>2</th>\n",
       "      <td>3</td>\n",
       "      <td>0.023244</td>\n",
       "    </tr>\n",
       "    <tr>\n",
       "      <th>13</th>\n",
       "      <td>14</td>\n",
       "      <td>0.030700</td>\n",
       "    </tr>\n",
       "    <tr>\n",
       "      <th>12</th>\n",
       "      <td>13</td>\n",
       "      <td>0.030947</td>\n",
       "    </tr>\n",
       "    <tr>\n",
       "      <th>0</th>\n",
       "      <td>1</td>\n",
       "      <td>0.031203</td>\n",
       "    </tr>\n",
       "    <tr>\n",
       "      <th>34</th>\n",
       "      <td>35</td>\n",
       "      <td>0.032269</td>\n",
       "    </tr>\n",
       "    <tr>\n",
       "      <th>26</th>\n",
       "      <td>27</td>\n",
       "      <td>0.032371</td>\n",
       "    </tr>\n",
       "    <tr>\n",
       "      <th>27</th>\n",
       "      <td>28</td>\n",
       "      <td>0.032412</td>\n",
       "    </tr>\n",
       "    <tr>\n",
       "      <th>33</th>\n",
       "      <td>34</td>\n",
       "      <td>0.032612</td>\n",
       "    </tr>\n",
       "    <tr>\n",
       "      <th>35</th>\n",
       "      <td>36</td>\n",
       "      <td>0.032794</td>\n",
       "    </tr>\n",
       "    <tr>\n",
       "      <th>19</th>\n",
       "      <td>20</td>\n",
       "      <td>0.034609</td>\n",
       "    </tr>\n",
       "  </tbody>\n",
       "</table>\n",
       "</div>"
      ],
      "text/plain": [
       "    window_size       mse\n",
       "20           21  0.018302\n",
       "17           18  0.021826\n",
       "28           29  0.022942\n",
       "2             3  0.023244\n",
       "13           14  0.030700\n",
       "12           13  0.030947\n",
       "0             1  0.031203\n",
       "34           35  0.032269\n",
       "26           27  0.032371\n",
       "27           28  0.032412\n",
       "33           34  0.032612\n",
       "35           36  0.032794\n",
       "19           20  0.034609"
      ]
     },
     "execution_count": 15,
     "metadata": {},
     "output_type": "execute_result"
    }
   ],
   "source": [
    "results_df = pd.DataFrame(results)\n",
    "results_df.to_csv(\"RNN_testingresults.csv\")\n",
    "results_df[results_df['mse']<0.035].sort_values(by='mse')"
   ]
  },
  {
   "cell_type": "code",
   "execution_count": 17,
   "id": "afed4d38",
   "metadata": {},
   "outputs": [
    {
     "data": {
      "text/plain": [
       "[<matplotlib.lines.Line2D at 0x15a603da6b0>,\n",
       " <matplotlib.lines.Line2D at 0x15a603da800>]"
      ]
     },
     "execution_count": 17,
     "metadata": {},
     "output_type": "execute_result"
    },
    {
     "data": {
      "image/png": "[encoded data removed]",
      "text/plain": [
       "<Figure size 640x480 with 1 Axes>"
      ]
     },
     "metadata": {},
     "output_type": "display_data"
    }
   ],
   "source": [
    "plt.ylim((0,0.2))\n",
    "plt.plot(results_df)"
   ]
  },
  {
   "cell_type": "code",
   "execution_count": 30,
   "id": "1834a088",
   "metadata": {},
   "outputs": [
    {
     "data": {
      "text/plain": [
       "{'window_size': 50, 'mse': 0.03087220625339162}"
      ]
     },
     "execution_count": 30,
     "metadata": {},
     "output_type": "execute_result"
    }
   ],
   "source": [
    "results[49]"
   ]
  }
 ],
 "metadata": {
  "kernelspec": {
   "display_name": "DL",
   "language": "python",
   "name": "python3"
  },
  "language_info": {
   "codemirror_mode": {
    "name": "ipython",
    "version": 3
   },
   "file_extension": ".py",
   "mimetype": "text/x-python",
   "name": "python",
   "nbconvert_exporter": "python",
   "pygments_lexer": "ipython3",
   "version": "3.10.13"
  }
 },
 "nbformat": 4,
 "nbformat_minor": 5
}
